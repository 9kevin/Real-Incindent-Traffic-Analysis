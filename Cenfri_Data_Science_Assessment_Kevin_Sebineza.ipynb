{
  "nbformat": 4,
  "nbformat_minor": 0,
  "metadata": {
    "colab": {
      "name": "Cenfri - Data Science Assessment - Kevin Sebineza.ipynb",
      "provenance": []
    },
    "kernelspec": {
      "name": "python3",
      "display_name": "Python 3"
    },
    "language_info": {
      "name": "python"
    }
  },
  "cells": [
    {
      "cell_type": "code",
      "execution_count": 1,
      "metadata": {
        "id": "qjleLWy2aH7c"
      },
      "outputs": [],
      "source": [
        "from google.colab import drive"
      ]
    },
    {
      "cell_type": "code",
      "source": [
        "# Mounting the drive\n",
        "drive.mount('/content/gdrive')"
      ],
      "metadata": {
        "colab": {
          "base_uri": "https://localhost:8080/"
        },
        "id": "5KxWGUCZacrc",
        "outputId": "4bccb50d-e61f-49dd-b6d1-8b0f55d28712"
      },
      "execution_count": 2,
      "outputs": [
        {
          "output_type": "stream",
          "name": "stdout",
          "text": [
            "Drive already mounted at /content/gdrive; to attempt to forcibly remount, call drive.mount(\"/content/gdrive\", force_remount=True).\n"
          ]
        }
      ]
    },
    {
      "cell_type": "code",
      "source": [
        "# Changing the directory of the notebook to the drive folder\n",
        "import os\n",
        "os.chdir('/content/gdrive/MyDrive/Cenfri Data Science Assessment')"
      ],
      "metadata": {
        "id": "yMtn97FUal1B"
      },
      "execution_count": 3,
      "outputs": []
    },
    {
      "cell_type": "code",
      "source": [
        "# Importing libraries\n",
        "import pandas as pd\n",
        "import matplotlib.pyplot as plt\n",
        "import seaborn as sns\n",
        "import numpy as np"
      ],
      "metadata": {
        "id": "HFqpE0wSa8i5"
      },
      "execution_count": 4,
      "outputs": []
    },
    {
      "cell_type": "code",
      "source": [
        "# Loading the dataset\n",
        "df = pd.read_csv(\"Real-Time_Traffic_Incident_Reports.csv\")\n",
        "df.head()"
      ],
      "metadata": {
        "colab": {
          "base_uri": "https://localhost:8080/",
          "height": 458
        },
        "id": "40Z4zMVHbEr5",
        "outputId": "bb3bc0a2-637f-420d-fb9a-c26af35e5449"
      },
      "execution_count": 5,
      "outputs": [
        {
          "output_type": "execute_result",
          "data": {
            "text/html": [
              "\n",
              "  <div id=\"df-51ce2d6f-743c-479b-a0aa-b903a10d29ed\">\n",
              "    <div class=\"colab-df-container\">\n",
              "      <div>\n",
              "<style scoped>\n",
              "    .dataframe tbody tr th:only-of-type {\n",
              "        vertical-align: middle;\n",
              "    }\n",
              "\n",
              "    .dataframe tbody tr th {\n",
              "        vertical-align: top;\n",
              "    }\n",
              "\n",
              "    .dataframe thead th {\n",
              "        text-align: right;\n",
              "    }\n",
              "</style>\n",
              "<table border=\"1\" class=\"dataframe\">\n",
              "  <thead>\n",
              "    <tr style=\"text-align: right;\">\n",
              "      <th></th>\n",
              "      <th>Traffic Report ID</th>\n",
              "      <th>Published Date</th>\n",
              "      <th>Issue Reported</th>\n",
              "      <th>Location</th>\n",
              "      <th>Latitude</th>\n",
              "      <th>Longitude</th>\n",
              "      <th>Address</th>\n",
              "      <th>Status</th>\n",
              "      <th>Status Date</th>\n",
              "    </tr>\n",
              "  </thead>\n",
              "  <tbody>\n",
              "    <tr>\n",
              "      <th>0</th>\n",
              "      <td>C163BCD1CF90C984E9EDA4DBA311BCA369A7D1A1_15288...</td>\n",
              "      <td>06/13/2018 06:35:59 AM +0000</td>\n",
              "      <td>Crash Service</td>\n",
              "      <td>(30.283797,-97.741906)</td>\n",
              "      <td>30.283797</td>\n",
              "      <td>-97.741906</td>\n",
              "      <td>W 21ST ST &amp; GUADALUPE ST</td>\n",
              "      <td>ARCHIVED</td>\n",
              "      <td>06/13/2018 09:00:03 AM +0000</td>\n",
              "    </tr>\n",
              "    <tr>\n",
              "      <th>1</th>\n",
              "      <td>6B20382196FB454E9FD06A33E60142902A2F0706_15288...</td>\n",
              "      <td>06/13/2018 10:15:36 AM +0000</td>\n",
              "      <td>Traffic Hazard</td>\n",
              "      <td>(30.339593,-97.700963)</td>\n",
              "      <td>30.339593</td>\n",
              "      <td>-97.700963</td>\n",
              "      <td>400-717 E ANDERSON LN EB</td>\n",
              "      <td>ARCHIVED</td>\n",
              "      <td>06/13/2018 11:20:03 AM +0000</td>\n",
              "    </tr>\n",
              "    <tr>\n",
              "      <th>2</th>\n",
              "      <td>2A7A84FC69D56A2C379C274D2F0831442D3E7B8E_15871...</td>\n",
              "      <td>04/17/2020 09:25:03 PM +0000</td>\n",
              "      <td>Crash Urgent</td>\n",
              "      <td>(30.329455,-97.638105)</td>\n",
              "      <td>30.329455</td>\n",
              "      <td>-97.638105</td>\n",
              "      <td>E US 290 HWY SVRD EB &amp; EASTERN HEIGHTS BLVD</td>\n",
              "      <td>ARCHIVED</td>\n",
              "      <td>04/17/2020 09:55:03 PM +0000</td>\n",
              "    </tr>\n",
              "    <tr>\n",
              "      <th>3</th>\n",
              "      <td>89D3B75BB5932F10D25B5852A9902DA26C3DF11A_15871...</td>\n",
              "      <td>04/17/2020 09:40:52 PM +0000</td>\n",
              "      <td>Traffic Hazard</td>\n",
              "      <td>(30.202806,-97.760701)</td>\n",
              "      <td>30.202806</td>\n",
              "      <td>-97.760701</td>\n",
              "      <td>5300-blk S Ih 35 Sb</td>\n",
              "      <td>ARCHIVED</td>\n",
              "      <td>04/17/2020 09:55:03 PM +0000</td>\n",
              "    </tr>\n",
              "    <tr>\n",
              "      <th>4</th>\n",
              "      <td>E7F9EFF0E81057A5C8FE41CABE4D9C6EEA82DAA0_15871...</td>\n",
              "      <td>04/17/2020 09:00:55 PM +0000</td>\n",
              "      <td>Crash Urgent</td>\n",
              "      <td>(30.184265,-97.687339)</td>\n",
              "      <td>30.184265</td>\n",
              "      <td>-97.687339</td>\n",
              "      <td>4500-4720 S Us 183 Hwy Sb</td>\n",
              "      <td>ARCHIVED</td>\n",
              "      <td>04/17/2020 11:30:04 PM +0000</td>\n",
              "    </tr>\n",
              "  </tbody>\n",
              "</table>\n",
              "</div>\n",
              "      <button class=\"colab-df-convert\" onclick=\"convertToInteractive('df-51ce2d6f-743c-479b-a0aa-b903a10d29ed')\"\n",
              "              title=\"Convert this dataframe to an interactive table.\"\n",
              "              style=\"display:none;\">\n",
              "        \n",
              "  <svg xmlns=\"http://www.w3.org/2000/svg\" height=\"24px\"viewBox=\"0 0 24 24\"\n",
              "       width=\"24px\">\n",
              "    <path d=\"M0 0h24v24H0V0z\" fill=\"none\"/>\n",
              "    <path d=\"M18.56 5.44l.94 2.06.94-2.06 2.06-.94-2.06-.94-.94-2.06-.94 2.06-2.06.94zm-11 1L8.5 8.5l.94-2.06 2.06-.94-2.06-.94L8.5 2.5l-.94 2.06-2.06.94zm10 10l.94 2.06.94-2.06 2.06-.94-2.06-.94-.94-2.06-.94 2.06-2.06.94z\"/><path d=\"M17.41 7.96l-1.37-1.37c-.4-.4-.92-.59-1.43-.59-.52 0-1.04.2-1.43.59L10.3 9.45l-7.72 7.72c-.78.78-.78 2.05 0 2.83L4 21.41c.39.39.9.59 1.41.59.51 0 1.02-.2 1.41-.59l7.78-7.78 2.81-2.81c.8-.78.8-2.07 0-2.86zM5.41 20L4 18.59l7.72-7.72 1.47 1.35L5.41 20z\"/>\n",
              "  </svg>\n",
              "      </button>\n",
              "      \n",
              "  <style>\n",
              "    .colab-df-container {\n",
              "      display:flex;\n",
              "      flex-wrap:wrap;\n",
              "      gap: 12px;\n",
              "    }\n",
              "\n",
              "    .colab-df-convert {\n",
              "      background-color: #E8F0FE;\n",
              "      border: none;\n",
              "      border-radius: 50%;\n",
              "      cursor: pointer;\n",
              "      display: none;\n",
              "      fill: #1967D2;\n",
              "      height: 32px;\n",
              "      padding: 0 0 0 0;\n",
              "      width: 32px;\n",
              "    }\n",
              "\n",
              "    .colab-df-convert:hover {\n",
              "      background-color: #E2EBFA;\n",
              "      box-shadow: 0px 1px 2px rgba(60, 64, 67, 0.3), 0px 1px 3px 1px rgba(60, 64, 67, 0.15);\n",
              "      fill: #174EA6;\n",
              "    }\n",
              "\n",
              "    [theme=dark] .colab-df-convert {\n",
              "      background-color: #3B4455;\n",
              "      fill: #D2E3FC;\n",
              "    }\n",
              "\n",
              "    [theme=dark] .colab-df-convert:hover {\n",
              "      background-color: #434B5C;\n",
              "      box-shadow: 0px 1px 3px 1px rgba(0, 0, 0, 0.15);\n",
              "      filter: drop-shadow(0px 1px 2px rgba(0, 0, 0, 0.3));\n",
              "      fill: #FFFFFF;\n",
              "    }\n",
              "  </style>\n",
              "\n",
              "      <script>\n",
              "        const buttonEl =\n",
              "          document.querySelector('#df-51ce2d6f-743c-479b-a0aa-b903a10d29ed button.colab-df-convert');\n",
              "        buttonEl.style.display =\n",
              "          google.colab.kernel.accessAllowed ? 'block' : 'none';\n",
              "\n",
              "        async function convertToInteractive(key) {\n",
              "          const element = document.querySelector('#df-51ce2d6f-743c-479b-a0aa-b903a10d29ed');\n",
              "          const dataTable =\n",
              "            await google.colab.kernel.invokeFunction('convertToInteractive',\n",
              "                                                     [key], {});\n",
              "          if (!dataTable) return;\n",
              "\n",
              "          const docLinkHtml = 'Like what you see? Visit the ' +\n",
              "            '<a target=\"_blank\" href=https://colab.research.google.com/notebooks/data_table.ipynb>data table notebook</a>'\n",
              "            + ' to learn more about interactive tables.';\n",
              "          element.innerHTML = '';\n",
              "          dataTable['output_type'] = 'display_data';\n",
              "          await google.colab.output.renderOutput(dataTable, element);\n",
              "          const docLink = document.createElement('div');\n",
              "          docLink.innerHTML = docLinkHtml;\n",
              "          element.appendChild(docLink);\n",
              "        }\n",
              "      </script>\n",
              "    </div>\n",
              "  </div>\n",
              "  "
            ],
            "text/plain": [
              "                                   Traffic Report ID  ...                   Status Date\n",
              "0  C163BCD1CF90C984E9EDA4DBA311BCA369A7D1A1_15288...  ...  06/13/2018 09:00:03 AM +0000\n",
              "1  6B20382196FB454E9FD06A33E60142902A2F0706_15288...  ...  06/13/2018 11:20:03 AM +0000\n",
              "2  2A7A84FC69D56A2C379C274D2F0831442D3E7B8E_15871...  ...  04/17/2020 09:55:03 PM +0000\n",
              "3  89D3B75BB5932F10D25B5852A9902DA26C3DF11A_15871...  ...  04/17/2020 09:55:03 PM +0000\n",
              "4  E7F9EFF0E81057A5C8FE41CABE4D9C6EEA82DAA0_15871...  ...  04/17/2020 11:30:04 PM +0000\n",
              "\n",
              "[5 rows x 9 columns]"
            ]
          },
          "metadata": {},
          "execution_count": 5
        }
      ]
    },
    {
      "cell_type": "code",
      "source": [
        "# Basic information about the dataset\n",
        "df.info()"
      ],
      "metadata": {
        "colab": {
          "base_uri": "https://localhost:8080/"
        },
        "id": "4hes1dsYbIvI",
        "outputId": "09aba26d-ae2f-4bf8-cf58-63dede91d233"
      },
      "execution_count": 6,
      "outputs": [
        {
          "output_type": "stream",
          "name": "stdout",
          "text": [
            "<class 'pandas.core.frame.DataFrame'>\n",
            "RangeIndex: 257651 entries, 0 to 257650\n",
            "Data columns (total 9 columns):\n",
            " #   Column             Non-Null Count   Dtype  \n",
            "---  ------             --------------   -----  \n",
            " 0   Traffic Report ID  257651 non-null  object \n",
            " 1   Published Date     257651 non-null  object \n",
            " 2   Issue Reported     257651 non-null  object \n",
            " 3   Location           257092 non-null  object \n",
            " 4   Latitude           257572 non-null  float64\n",
            " 5   Longitude          257572 non-null  float64\n",
            " 6   Address            257651 non-null  object \n",
            " 7   Status             255958 non-null  object \n",
            " 8   Status Date        257651 non-null  object \n",
            "dtypes: float64(2), object(7)\n",
            "memory usage: 17.7+ MB\n"
          ]
        }
      ]
    },
    {
      "cell_type": "markdown",
      "source": [
        "**Observations:** After having a look into the dataset, it is evident that the dataset contains information about traffic issue reported"
      ],
      "metadata": {
        "id": "ZM82B3nc1-vI"
      }
    },
    {
      "cell_type": "markdown",
      "source": [
        "## **Phase 1: Understanding & Cleaning data** "
      ],
      "metadata": {
        "id": "npoQKYUz3nfp"
      }
    },
    {
      "cell_type": "code",
      "source": [
        "# Looking for missing values\n",
        "for col in df.columns:\n",
        "  missing = len(df[df[col].isnull()])\n",
        "  if missing > 0:\n",
        "    print(\"Column \", col, \" has: \", missing, \" missing values\")"
      ],
      "metadata": {
        "colab": {
          "base_uri": "https://localhost:8080/"
        },
        "id": "hJjuNRPZbPzQ",
        "outputId": "d4eb6da4-6d45-44e0-a3cd-090760c13225"
      },
      "execution_count": 7,
      "outputs": [
        {
          "output_type": "stream",
          "name": "stdout",
          "text": [
            "Column  Location  has:  559  missing values\n",
            "Column  Latitude  has:  79  missing values\n",
            "Column  Longitude  has:  79  missing values\n",
            "Column  Status  has:  1693  missing values\n"
          ]
        }
      ]
    },
    {
      "cell_type": "markdown",
      "source": [
        "**Dealing with missing values**"
      ],
      "metadata": {
        "id": "9Yr1zpOVY3Ec"
      }
    },
    {
      "cell_type": "code",
      "source": [
        "# Checking the location column\n",
        "df['Location'][:5]"
      ],
      "metadata": {
        "colab": {
          "base_uri": "https://localhost:8080/"
        },
        "id": "_I7FGmv2u68R",
        "outputId": "e56f167b-594f-4ea8-9fd1-12c4ac7ac731"
      },
      "execution_count": 8,
      "outputs": [
        {
          "output_type": "execute_result",
          "data": {
            "text/plain": [
              "0    (30.283797,-97.741906)\n",
              "1    (30.339593,-97.700963)\n",
              "2    (30.329455,-97.638105)\n",
              "3    (30.202806,-97.760701)\n",
              "4    (30.184265,-97.687339)\n",
              "Name: Location, dtype: object"
            ]
          },
          "metadata": {},
          "execution_count": 8
        }
      ]
    },
    {
      "cell_type": "markdown",
      "source": [
        "Given that the information in the location, latitude, and longitude columns are just coordinates that might not highly contribute to the analysis, I will drop the 3 columns and instead use the address column."
      ],
      "metadata": {
        "id": "JPKCGv2ru7p-"
      }
    },
    {
      "cell_type": "code",
      "source": [
        "# Dropping the location, latitude, and longitude columns\n",
        "df = df.drop(['Location', 'Latitude', 'Longitude'], axis=1)\n",
        "df.info()"
      ],
      "metadata": {
        "colab": {
          "base_uri": "https://localhost:8080/"
        },
        "id": "bGRS7_rWu8Db",
        "outputId": "0105f1c7-522e-41b7-9982-a74d054bd3b3"
      },
      "execution_count": 9,
      "outputs": [
        {
          "output_type": "stream",
          "name": "stdout",
          "text": [
            "<class 'pandas.core.frame.DataFrame'>\n",
            "RangeIndex: 257651 entries, 0 to 257650\n",
            "Data columns (total 6 columns):\n",
            " #   Column             Non-Null Count   Dtype \n",
            "---  ------             --------------   ----- \n",
            " 0   Traffic Report ID  257651 non-null  object\n",
            " 1   Published Date     257651 non-null  object\n",
            " 2   Issue Reported     257651 non-null  object\n",
            " 3   Address            257651 non-null  object\n",
            " 4   Status             255958 non-null  object\n",
            " 5   Status Date        257651 non-null  object\n",
            "dtypes: object(6)\n",
            "memory usage: 11.8+ MB\n"
          ]
        }
      ]
    },
    {
      "cell_type": "code",
      "source": [
        "# Checking values in the status columns\n",
        "df['Status'].value_counts()"
      ],
      "metadata": {
        "colab": {
          "base_uri": "https://localhost:8080/"
        },
        "id": "3vxq_dr2bclp",
        "outputId": "ed168063-072a-432f-ac94-712e38ece2af"
      },
      "execution_count": 10,
      "outputs": [
        {
          "output_type": "execute_result",
          "data": {
            "text/plain": [
              "ARCHIVED    255955\n",
              "ACTIVE           3\n",
              "Name: Status, dtype: int64"
            ]
          },
          "metadata": {},
          "execution_count": 10
        }
      ]
    },
    {
      "cell_type": "markdown",
      "source": [
        "Given that the number of missing values in the Status columns are 1693 compared to 255958 values, we can delete all null values in the column"
      ],
      "metadata": {
        "id": "Un-PF9J4tiTP"
      }
    },
    {
      "cell_type": "code",
      "source": [
        "# Deleting all null values\n",
        "df = df.dropna()\n",
        "df.info()"
      ],
      "metadata": {
        "colab": {
          "base_uri": "https://localhost:8080/"
        },
        "id": "DkneSxSaY0_L",
        "outputId": "e31859aa-c336-49d7-8035-dd55491ab3d8"
      },
      "execution_count": 11,
      "outputs": [
        {
          "output_type": "stream",
          "name": "stdout",
          "text": [
            "<class 'pandas.core.frame.DataFrame'>\n",
            "Int64Index: 255958 entries, 0 to 257650\n",
            "Data columns (total 6 columns):\n",
            " #   Column             Non-Null Count   Dtype \n",
            "---  ------             --------------   ----- \n",
            " 0   Traffic Report ID  255958 non-null  object\n",
            " 1   Published Date     255958 non-null  object\n",
            " 2   Issue Reported     255958 non-null  object\n",
            " 3   Address            255958 non-null  object\n",
            " 4   Status             255958 non-null  object\n",
            " 5   Status Date        255958 non-null  object\n",
            "dtypes: object(6)\n",
            "memory usage: 13.7+ MB\n"
          ]
        }
      ]
    },
    {
      "cell_type": "code",
      "source": [
        "# Resetting the indexes\n",
        "df = df.reset_index()"
      ],
      "metadata": {
        "id": "nXVdV3maIJld"
      },
      "execution_count": 12,
      "outputs": []
    },
    {
      "cell_type": "markdown",
      "source": [
        "Since our data don't have missing values, we can start the analytics phase"
      ],
      "metadata": {
        "id": "rpcpFTc-yfaD"
      }
    },
    {
      "cell_type": "markdown",
      "source": [
        "## **Phase 2: Data Analysis**"
      ],
      "metadata": {
        "id": "wSnbfvHZykyc"
      }
    },
    {
      "cell_type": "markdown",
      "source": [
        "**In this section, I'll come up with analytical questions from the dataset and answer them using data analysis and visualization techniques**"
      ],
      "metadata": {
        "id": "51d1t2bLyp8X"
      }
    },
    {
      "cell_type": "markdown",
      "source": [
        "### *Question 1: What are the top 5 most recurring traffic issues reported*"
      ],
      "metadata": {
        "id": "CDDGjHrdzYqV"
      }
    },
    {
      "cell_type": "code",
      "source": [
        "# Looking for top 5 most recurring traffic issues\n",
        "most_traffic_issues = df['Issue Reported'].value_counts().sort_values(ascending=False)[:5]\n",
        "most_traffic_issues"
      ],
      "metadata": {
        "colab": {
          "base_uri": "https://localhost:8080/"
        },
        "id": "byJOD42ksRk-",
        "outputId": "3007a6d0-90eb-4000-df27-1db2f9f85621"
      },
      "execution_count": 13,
      "outputs": [
        {
          "output_type": "execute_result",
          "data": {
            "text/plain": [
              "Traffic Hazard       78953\n",
              "Crash Urgent         60521\n",
              "Crash Service        38158\n",
              "COLLISION            22789\n",
              "TRFC HAZD/ DEBRIS    17991\n",
              "Name: Issue Reported, dtype: int64"
            ]
          },
          "metadata": {},
          "execution_count": 13
        }
      ]
    },
    {
      "cell_type": "code",
      "source": [
        "# Visualizing the top 5 most recurring traffic issues\n",
        "plt.figure(figsize=(7,5))\n",
        "plt.title(\"Top 5 most recurring traffic issues\")\n",
        "sns.barplot(y = most_traffic_issues.index, x = most_traffic_issues.values)\n",
        "plt.xlabel(\"Total count of traffic issues\")\n",
        "plt.ylabel(\"Traffic issues\")\n",
        "plt.plot()"
      ],
      "metadata": {
        "colab": {
          "base_uri": "https://localhost:8080/",
          "height": 368
        },
        "id": "SR3ADVPMs5jr",
        "outputId": "dc144807-d17d-40ab-bc8a-27e0946c1e85"
      },
      "execution_count": 14,
      "outputs": [
        {
          "output_type": "execute_result",
          "data": {
            "text/plain": [
              "[]"
            ]
          },
          "metadata": {},
          "execution_count": 14
        },
        {
          "output_type": "display_data",
          "data": {
            "image/png": "[encoded data removed]",
            "text/plain": [
              "<Figure size 504x360 with 1 Axes>"
            ]
          },
          "metadata": {
            "needs_background": "light"
          }
        }
      ]
    },
    {
      "cell_type": "markdown",
      "source": [
        "From the chart above, we can see that traffic harzard is the most common traffic issue reported compared to other"
      ],
      "metadata": {
        "id": "IoVyvq2z1kJN"
      }
    },
    {
      "cell_type": "markdown",
      "source": [
        "### *Question 2: What is the address with many recorded traffic issues*"
      ],
      "metadata": {
        "id": "vORWdDGP1qRy"
      }
    },
    {
      "cell_type": "code",
      "source": [
        "# Looking for addresses where many issues were reported\n",
        "df['Address'].value_counts().sort_values(ascending=False)[:1]"
      ],
      "metadata": {
        "colab": {
          "base_uri": "https://localhost:8080/"
        },
        "id": "oirHdgJBuxo8",
        "outputId": "e9b71586-1584-44fd-a748-0505274f1aa2"
      },
      "execution_count": 15,
      "outputs": [
        {
          "output_type": "execute_result",
          "data": {
            "text/plain": [
              "E Parmer Ln & Dessau Rd    184\n",
              "Name: Address, dtype: int64"
            ]
          },
          "metadata": {},
          "execution_count": 15
        }
      ]
    },
    {
      "cell_type": "markdown",
      "source": [
        "Over 184 traffic issues were reported in E Parmer & Dessau Rd. This is the most of all other addresses."
      ],
      "metadata": {
        "id": "CIzbV5S04ygq"
      }
    },
    {
      "cell_type": "markdown",
      "source": [
        "### *Question 3: What are the most common traffic issues in E Parmer & Dessau Rd*"
      ],
      "metadata": {
        "id": "aTmQXOoI4_59"
      }
    },
    {
      "cell_type": "code",
      "source": [
        "# Looking for common traffic issues recorded in the address with many traffic cases\n",
        "issues = df[df['Address'] ==  'E Parmer Ln & Dessau Rd']\n",
        "common_issues = issues['Issue Reported'].value_counts()\n",
        "common_issues"
      ],
      "metadata": {
        "colab": {
          "base_uri": "https://localhost:8080/"
        },
        "id": "JMF6V_fI0K5Q",
        "outputId": "d922b05c-10d9-47e3-c2d0-04df6b04ff07"
      },
      "execution_count": 16,
      "outputs": [
        {
          "output_type": "execute_result",
          "data": {
            "text/plain": [
              "Crash Urgent          76\n",
              "Traffic Hazard        67\n",
              "Crash Service         28\n",
              "Traffic Impediment     5\n",
              "zSTALLED VEHICLE       3\n",
              "COLLISION              2\n",
              "Stalled Vehicle        2\n",
              "VEHICLE FIRE           1\n",
              "Name: Issue Reported, dtype: int64"
            ]
          },
          "metadata": {},
          "execution_count": 16
        }
      ]
    },
    {
      "cell_type": "code",
      "source": [
        "# Visualizing the distribution of traffic issues in E Parmer & Dessau Rd address\n",
        "\n",
        "labels = common_issues.index\n",
        "values = common_issues.values\n",
        "\n",
        "plt.figure(figsize=(8,8))\n",
        "plt.title(\"Distribution of traffic issues in E Parmer & Dessau\")\n",
        "plt.pie(values, labels = labels, autopct='%1.2f%%')\n",
        "plt.show()"
      ],
      "metadata": {
        "colab": {
          "base_uri": "https://localhost:8080/",
          "height": 482
        },
        "id": "GHYAXg474jVy",
        "outputId": "c1803f86-44dc-42ec-aa3c-eeb22cea54b5"
      },
      "execution_count": 17,
      "outputs": [
        {
          "output_type": "display_data",
          "data": {
            "image/png": "[encoded data removed]",
            "text/plain": [
              "<Figure size 576x576 with 1 Axes>"
            ]
          },
          "metadata": {}
        }
      ]
    },
    {
      "cell_type": "markdown",
      "source": [
        "From the above chart, we can spot that urgent minor crashes alongside traffic hazards are the most common traffic issues in the E Parmer & Dessau Rd, the address with the most traffic cases."
      ],
      "metadata": {
        "id": "SI717eX09_s9"
      }
    },
    {
      "cell_type": "markdown",
      "source": [
        "### *Question 4: At what time of the day are most of the traffic cases recorded* "
      ],
      "metadata": {
        "id": "wkmq3CDv-SM8"
      }
    },
    {
      "cell_type": "code",
      "source": [
        "# Turning the published date column from object to datetime\n",
        "df['Published Date'] = pd.to_datetime(df['Published Date'])"
      ],
      "metadata": {
        "id": "ee-vJf3-7TTI"
      },
      "execution_count": 18,
      "outputs": []
    },
    {
      "cell_type": "code",
      "source": [
        "# Extracting hours from the published date column\n",
        "hour = []\n",
        "published_date = df['Published Date']\n",
        "for i in range (len(df['Published Date'])):\n",
        "  h = df['Published Date'][i].hour\n",
        "  hour.append(h)\n",
        "\n",
        "df['Hour'] = hour"
      ],
      "metadata": {
        "id": "wPJ2Di-uCEmA"
      },
      "execution_count": 19,
      "outputs": []
    },
    {
      "cell_type": "code",
      "source": [
        "# Traffic cases by the hour of the day\n",
        "\n",
        "cases_by_hour = df['Hour'].value_counts()\n",
        "cases_by_hour = cases_by_hour.sort_index()\n",
        "hours = cases_by_hour.index\n",
        "cases = cases_by_hour.values\n",
        "print(cases_by_hour)\n",
        "\n",
        "plt.figure(figsize=(12, 5))\n",
        "plt.title(\"Traffic cases by hours of the day\")\n",
        "plt.plot(hours, cases, color='g', marker = 'o')\n",
        "plt.xlabel(\"Hours of the day\")\n",
        "plt.ylabel(\"Total traffic cases\")\n",
        "plt.xlim(0, 23)\n",
        "plt.show()"
      ],
      "metadata": {
        "colab": {
          "base_uri": "https://localhost:8080/",
          "height": 796
        },
        "id": "77gqt4SYEuFf",
        "outputId": "fa710a5d-9454-4f7b-d24c-23227d197e4c"
      },
      "execution_count": 20,
      "outputs": [
        {
          "output_type": "stream",
          "name": "stdout",
          "text": [
            "0     13140\n",
            "1     10488\n",
            "2      8810\n",
            "3      6916\n",
            "4      5344\n",
            "5      4332\n",
            "6      4297\n",
            "7      5340\n",
            "8      4963\n",
            "9      4022\n",
            "10     4553\n",
            "11     7253\n",
            "12    11485\n",
            "13    14004\n",
            "14    13734\n",
            "15    13444\n",
            "16    14273\n",
            "17    15697\n",
            "18    16020\n",
            "19    15113\n",
            "20    14929\n",
            "21    16306\n",
            "22    16774\n",
            "23    14721\n",
            "Name: Hour, dtype: int64\n"
          ]
        },
        {
          "output_type": "display_data",
          "data": {
            "image/png": "[encoded data removed]",
            "text/plain": [
              "<Figure size 864x360 with 1 Axes>"
            ]
          },
          "metadata": {
            "needs_background": "light"
          }
        }
      ]
    },
    {
      "cell_type": "markdown",
      "source": [
        "From the chart above, we can see majority of traffic issues recorded took place between 12 PM and 1 AM. This might be due to various reasons. Let's try to uncover which case took place at which time in the next question."
      ],
      "metadata": {
        "id": "z13W-2uXLv0u"
      }
    },
    {
      "cell_type": "markdown",
      "source": [
        "### *Question 5: What is the daily distribution of the top 5 traffic cases*  "
      ],
      "metadata": {
        "id": "CzlaLjmoMbZd"
      }
    },
    {
      "cell_type": "code",
      "source": [
        "# Using pivot table to group by top 5 traffic cases\n",
        "piv = df.pivot_table(\"Traffic Report ID\", index=\"Hour\", columns=\"Issue Reported\", aggfunc='count')\n",
        "piv"
      ],
      "metadata": {
        "colab": {
          "base_uri": "https://localhost:8080/",
          "height": 949
        },
        "id": "3166RwjiGIY4",
        "outputId": "50f5b484-a017-470d-b8d2-54426d92bc9b"
      },
      "execution_count": 21,
      "outputs": [
        {
          "output_type": "execute_result",
          "data": {
            "text/html": [
              "\n",
              "  <div id=\"df-c6fec5e9-855e-4cb9-9871-d26328d674cf\">\n",
              "    <div class=\"colab-df-container\">\n",
              "      <div>\n",
              "<style scoped>\n",
              "    .dataframe tbody tr th:only-of-type {\n",
              "        vertical-align: middle;\n",
              "    }\n",
              "\n",
              "    .dataframe tbody tr th {\n",
              "        vertical-align: top;\n",
              "    }\n",
              "\n",
              "    .dataframe thead th {\n",
              "        text-align: right;\n",
              "    }\n",
              "</style>\n",
              "<table border=\"1\" class=\"dataframe\">\n",
              "  <thead>\n",
              "    <tr style=\"text-align: right;\">\n",
              "      <th>Issue Reported</th>\n",
              "      <th>AUTO/ PED</th>\n",
              "      <th>BLOCKED DRIV/ HWY</th>\n",
              "      <th>BOAT ACCIDENT</th>\n",
              "      <th>COLLISION</th>\n",
              "      <th>COLLISION WITH INJURY</th>\n",
              "      <th>COLLISION/PRIVATE PROPERTY</th>\n",
              "      <th>COLLISN / FTSRA</th>\n",
              "      <th>COLLISN/ LVNG SCN</th>\n",
              "      <th>Crash Service</th>\n",
              "      <th>Crash Urgent</th>\n",
              "      <th>FLEET ACC/ FATAL</th>\n",
              "      <th>FLEET ACC/ INJURY</th>\n",
              "      <th>HIGH WATER</th>\n",
              "      <th>ICY ROADWAY</th>\n",
              "      <th>LOOSE LIVESTOCK</th>\n",
              "      <th>N / HZRD TRFC VIOL</th>\n",
              "      <th>OBSTRUCT HWY</th>\n",
              "      <th>Stalled Vehicle</th>\n",
              "      <th>TRAFFIC FATALITY</th>\n",
              "      <th>TRFC HAZD/ DEBRIS</th>\n",
              "      <th>Traffic Hazard</th>\n",
              "      <th>Traffic Impediment</th>\n",
              "      <th>VEHICLE FIRE</th>\n",
              "      <th>zSTALLED VEHICLE</th>\n",
              "    </tr>\n",
              "    <tr>\n",
              "      <th>Hour</th>\n",
              "      <th></th>\n",
              "      <th></th>\n",
              "      <th></th>\n",
              "      <th></th>\n",
              "      <th></th>\n",
              "      <th></th>\n",
              "      <th></th>\n",
              "      <th></th>\n",
              "      <th></th>\n",
              "      <th></th>\n",
              "      <th></th>\n",
              "      <th></th>\n",
              "      <th></th>\n",
              "      <th></th>\n",
              "      <th></th>\n",
              "      <th></th>\n",
              "      <th></th>\n",
              "      <th></th>\n",
              "      <th></th>\n",
              "      <th></th>\n",
              "      <th></th>\n",
              "      <th></th>\n",
              "      <th></th>\n",
              "      <th></th>\n",
              "    </tr>\n",
              "  </thead>\n",
              "  <tbody>\n",
              "    <tr>\n",
              "      <th>0</th>\n",
              "      <td>6.0</td>\n",
              "      <td>28.0</td>\n",
              "      <td>12.0</td>\n",
              "      <td>1301.0</td>\n",
              "      <td>334.0</td>\n",
              "      <td>38.0</td>\n",
              "      <td>NaN</td>\n",
              "      <td>273.0</td>\n",
              "      <td>1880.0</td>\n",
              "      <td>3195.0</td>\n",
              "      <td>NaN</td>\n",
              "      <td>NaN</td>\n",
              "      <td>NaN</td>\n",
              "      <td>NaN</td>\n",
              "      <td>384.0</td>\n",
              "      <td>NaN</td>\n",
              "      <td>NaN</td>\n",
              "      <td>206.0</td>\n",
              "      <td>4.0</td>\n",
              "      <td>915.0</td>\n",
              "      <td>3915.0</td>\n",
              "      <td>143.0</td>\n",
              "      <td>46.0</td>\n",
              "      <td>460.0</td>\n",
              "    </tr>\n",
              "    <tr>\n",
              "      <th>1</th>\n",
              "      <td>4.0</td>\n",
              "      <td>21.0</td>\n",
              "      <td>11.0</td>\n",
              "      <td>1026.0</td>\n",
              "      <td>328.0</td>\n",
              "      <td>28.0</td>\n",
              "      <td>NaN</td>\n",
              "      <td>245.0</td>\n",
              "      <td>1438.0</td>\n",
              "      <td>2458.0</td>\n",
              "      <td>NaN</td>\n",
              "      <td>3.0</td>\n",
              "      <td>NaN</td>\n",
              "      <td>NaN</td>\n",
              "      <td>294.0</td>\n",
              "      <td>1.0</td>\n",
              "      <td>1.0</td>\n",
              "      <td>185.0</td>\n",
              "      <td>5.0</td>\n",
              "      <td>767.0</td>\n",
              "      <td>3092.0</td>\n",
              "      <td>118.0</td>\n",
              "      <td>36.0</td>\n",
              "      <td>427.0</td>\n",
              "    </tr>\n",
              "    <tr>\n",
              "      <th>2</th>\n",
              "      <td>1.0</td>\n",
              "      <td>25.0</td>\n",
              "      <td>8.0</td>\n",
              "      <td>869.0</td>\n",
              "      <td>258.0</td>\n",
              "      <td>9.0</td>\n",
              "      <td>1.0</td>\n",
              "      <td>228.0</td>\n",
              "      <td>1162.0</td>\n",
              "      <td>2234.0</td>\n",
              "      <td>NaN</td>\n",
              "      <td>1.0</td>\n",
              "      <td>NaN</td>\n",
              "      <td>1.0</td>\n",
              "      <td>201.0</td>\n",
              "      <td>NaN</td>\n",
              "      <td>NaN</td>\n",
              "      <td>171.0</td>\n",
              "      <td>4.0</td>\n",
              "      <td>630.0</td>\n",
              "      <td>2431.0</td>\n",
              "      <td>118.0</td>\n",
              "      <td>32.0</td>\n",
              "      <td>426.0</td>\n",
              "    </tr>\n",
              "    <tr>\n",
              "      <th>3</th>\n",
              "      <td>2.0</td>\n",
              "      <td>14.0</td>\n",
              "      <td>2.0</td>\n",
              "      <td>642.0</td>\n",
              "      <td>214.0</td>\n",
              "      <td>13.0</td>\n",
              "      <td>NaN</td>\n",
              "      <td>138.0</td>\n",
              "      <td>871.0</td>\n",
              "      <td>1740.0</td>\n",
              "      <td>NaN</td>\n",
              "      <td>1.0</td>\n",
              "      <td>NaN</td>\n",
              "      <td>1.0</td>\n",
              "      <td>152.0</td>\n",
              "      <td>1.0</td>\n",
              "      <td>NaN</td>\n",
              "      <td>215.0</td>\n",
              "      <td>4.0</td>\n",
              "      <td>454.0</td>\n",
              "      <td>1916.0</td>\n",
              "      <td>84.0</td>\n",
              "      <td>28.0</td>\n",
              "      <td>424.0</td>\n",
              "    </tr>\n",
              "    <tr>\n",
              "      <th>4</th>\n",
              "      <td>NaN</td>\n",
              "      <td>10.0</td>\n",
              "      <td>3.0</td>\n",
              "      <td>511.0</td>\n",
              "      <td>171.0</td>\n",
              "      <td>13.0</td>\n",
              "      <td>NaN</td>\n",
              "      <td>116.0</td>\n",
              "      <td>674.0</td>\n",
              "      <td>1314.0</td>\n",
              "      <td>NaN</td>\n",
              "      <td>2.0</td>\n",
              "      <td>NaN</td>\n",
              "      <td>2.0</td>\n",
              "      <td>131.0</td>\n",
              "      <td>1.0</td>\n",
              "      <td>1.0</td>\n",
              "      <td>195.0</td>\n",
              "      <td>5.0</td>\n",
              "      <td>338.0</td>\n",
              "      <td>1398.0</td>\n",
              "      <td>57.0</td>\n",
              "      <td>20.0</td>\n",
              "      <td>382.0</td>\n",
              "    </tr>\n",
              "    <tr>\n",
              "      <th>5</th>\n",
              "      <td>NaN</td>\n",
              "      <td>11.0</td>\n",
              "      <td>NaN</td>\n",
              "      <td>445.0</td>\n",
              "      <td>137.0</td>\n",
              "      <td>5.0</td>\n",
              "      <td>NaN</td>\n",
              "      <td>100.0</td>\n",
              "      <td>502.0</td>\n",
              "      <td>1087.0</td>\n",
              "      <td>NaN</td>\n",
              "      <td>NaN</td>\n",
              "      <td>NaN</td>\n",
              "      <td>2.0</td>\n",
              "      <td>118.0</td>\n",
              "      <td>NaN</td>\n",
              "      <td>NaN</td>\n",
              "      <td>139.0</td>\n",
              "      <td>1.0</td>\n",
              "      <td>254.0</td>\n",
              "      <td>1106.0</td>\n",
              "      <td>88.0</td>\n",
              "      <td>31.0</td>\n",
              "      <td>306.0</td>\n",
              "    </tr>\n",
              "    <tr>\n",
              "      <th>6</th>\n",
              "      <td>1.0</td>\n",
              "      <td>8.0</td>\n",
              "      <td>1.0</td>\n",
              "      <td>448.0</td>\n",
              "      <td>175.0</td>\n",
              "      <td>4.0</td>\n",
              "      <td>NaN</td>\n",
              "      <td>86.0</td>\n",
              "      <td>509.0</td>\n",
              "      <td>1046.0</td>\n",
              "      <td>NaN</td>\n",
              "      <td>1.0</td>\n",
              "      <td>NaN</td>\n",
              "      <td>5.0</td>\n",
              "      <td>108.0</td>\n",
              "      <td>NaN</td>\n",
              "      <td>NaN</td>\n",
              "      <td>103.0</td>\n",
              "      <td>8.0</td>\n",
              "      <td>270.0</td>\n",
              "      <td>1145.0</td>\n",
              "      <td>105.0</td>\n",
              "      <td>28.0</td>\n",
              "      <td>246.0</td>\n",
              "    </tr>\n",
              "    <tr>\n",
              "      <th>7</th>\n",
              "      <td>3.0</td>\n",
              "      <td>3.0</td>\n",
              "      <td>NaN</td>\n",
              "      <td>541.0</td>\n",
              "      <td>192.0</td>\n",
              "      <td>8.0</td>\n",
              "      <td>NaN</td>\n",
              "      <td>83.0</td>\n",
              "      <td>775.0</td>\n",
              "      <td>1404.0</td>\n",
              "      <td>NaN</td>\n",
              "      <td>2.0</td>\n",
              "      <td>NaN</td>\n",
              "      <td>5.0</td>\n",
              "      <td>116.0</td>\n",
              "      <td>NaN</td>\n",
              "      <td>NaN</td>\n",
              "      <td>82.0</td>\n",
              "      <td>4.0</td>\n",
              "      <td>291.0</td>\n",
              "      <td>1363.0</td>\n",
              "      <td>225.0</td>\n",
              "      <td>20.0</td>\n",
              "      <td>223.0</td>\n",
              "    </tr>\n",
              "    <tr>\n",
              "      <th>8</th>\n",
              "      <td>1.0</td>\n",
              "      <td>7.0</td>\n",
              "      <td>2.0</td>\n",
              "      <td>442.0</td>\n",
              "      <td>133.0</td>\n",
              "      <td>7.0</td>\n",
              "      <td>NaN</td>\n",
              "      <td>104.0</td>\n",
              "      <td>693.0</td>\n",
              "      <td>1292.0</td>\n",
              "      <td>NaN</td>\n",
              "      <td>1.0</td>\n",
              "      <td>NaN</td>\n",
              "      <td>2.0</td>\n",
              "      <td>132.0</td>\n",
              "      <td>NaN</td>\n",
              "      <td>1.0</td>\n",
              "      <td>66.0</td>\n",
              "      <td>3.0</td>\n",
              "      <td>299.0</td>\n",
              "      <td>1319.0</td>\n",
              "      <td>199.0</td>\n",
              "      <td>17.0</td>\n",
              "      <td>243.0</td>\n",
              "    </tr>\n",
              "    <tr>\n",
              "      <th>9</th>\n",
              "      <td>NaN</td>\n",
              "      <td>4.0</td>\n",
              "      <td>NaN</td>\n",
              "      <td>318.0</td>\n",
              "      <td>104.0</td>\n",
              "      <td>14.0</td>\n",
              "      <td>NaN</td>\n",
              "      <td>60.0</td>\n",
              "      <td>567.0</td>\n",
              "      <td>869.0</td>\n",
              "      <td>NaN</td>\n",
              "      <td>NaN</td>\n",
              "      <td>1.0</td>\n",
              "      <td>1.0</td>\n",
              "      <td>100.0</td>\n",
              "      <td>NaN</td>\n",
              "      <td>NaN</td>\n",
              "      <td>53.0</td>\n",
              "      <td>2.0</td>\n",
              "      <td>271.0</td>\n",
              "      <td>1284.0</td>\n",
              "      <td>202.0</td>\n",
              "      <td>18.0</td>\n",
              "      <td>154.0</td>\n",
              "    </tr>\n",
              "    <tr>\n",
              "      <th>10</th>\n",
              "      <td>NaN</td>\n",
              "      <td>6.0</td>\n",
              "      <td>NaN</td>\n",
              "      <td>398.0</td>\n",
              "      <td>138.0</td>\n",
              "      <td>11.0</td>\n",
              "      <td>NaN</td>\n",
              "      <td>68.0</td>\n",
              "      <td>538.0</td>\n",
              "      <td>916.0</td>\n",
              "      <td>NaN</td>\n",
              "      <td>1.0</td>\n",
              "      <td>NaN</td>\n",
              "      <td>1.0</td>\n",
              "      <td>96.0</td>\n",
              "      <td>NaN</td>\n",
              "      <td>NaN</td>\n",
              "      <td>48.0</td>\n",
              "      <td>1.0</td>\n",
              "      <td>356.0</td>\n",
              "      <td>1525.0</td>\n",
              "      <td>274.0</td>\n",
              "      <td>23.0</td>\n",
              "      <td>153.0</td>\n",
              "    </tr>\n",
              "    <tr>\n",
              "      <th>11</th>\n",
              "      <td>1.0</td>\n",
              "      <td>18.0</td>\n",
              "      <td>NaN</td>\n",
              "      <td>727.0</td>\n",
              "      <td>185.0</td>\n",
              "      <td>20.0</td>\n",
              "      <td>NaN</td>\n",
              "      <td>112.0</td>\n",
              "      <td>882.0</td>\n",
              "      <td>1587.0</td>\n",
              "      <td>1.0</td>\n",
              "      <td>1.0</td>\n",
              "      <td>NaN</td>\n",
              "      <td>3.0</td>\n",
              "      <td>160.0</td>\n",
              "      <td>NaN</td>\n",
              "      <td>NaN</td>\n",
              "      <td>64.0</td>\n",
              "      <td>4.0</td>\n",
              "      <td>525.0</td>\n",
              "      <td>2408.0</td>\n",
              "      <td>304.0</td>\n",
              "      <td>22.0</td>\n",
              "      <td>229.0</td>\n",
              "    </tr>\n",
              "    <tr>\n",
              "      <th>12</th>\n",
              "      <td>2.0</td>\n",
              "      <td>9.0</td>\n",
              "      <td>2.0</td>\n",
              "      <td>1227.0</td>\n",
              "      <td>264.0</td>\n",
              "      <td>24.0</td>\n",
              "      <td>NaN</td>\n",
              "      <td>183.0</td>\n",
              "      <td>1487.0</td>\n",
              "      <td>2615.0</td>\n",
              "      <td>NaN</td>\n",
              "      <td>1.0</td>\n",
              "      <td>NaN</td>\n",
              "      <td>4.0</td>\n",
              "      <td>227.0</td>\n",
              "      <td>NaN</td>\n",
              "      <td>NaN</td>\n",
              "      <td>119.0</td>\n",
              "      <td>3.0</td>\n",
              "      <td>836.0</td>\n",
              "      <td>3728.0</td>\n",
              "      <td>400.0</td>\n",
              "      <td>24.0</td>\n",
              "      <td>330.0</td>\n",
              "    </tr>\n",
              "    <tr>\n",
              "      <th>13</th>\n",
              "      <td>5.0</td>\n",
              "      <td>27.0</td>\n",
              "      <td>3.0</td>\n",
              "      <td>1311.0</td>\n",
              "      <td>294.0</td>\n",
              "      <td>55.0</td>\n",
              "      <td>NaN</td>\n",
              "      <td>188.0</td>\n",
              "      <td>2110.0</td>\n",
              "      <td>3216.0</td>\n",
              "      <td>1.0</td>\n",
              "      <td>2.0</td>\n",
              "      <td>NaN</td>\n",
              "      <td>3.0</td>\n",
              "      <td>434.0</td>\n",
              "      <td>1.0</td>\n",
              "      <td>NaN</td>\n",
              "      <td>103.0</td>\n",
              "      <td>NaN</td>\n",
              "      <td>992.0</td>\n",
              "      <td>4418.0</td>\n",
              "      <td>406.0</td>\n",
              "      <td>27.0</td>\n",
              "      <td>408.0</td>\n",
              "    </tr>\n",
              "    <tr>\n",
              "      <th>14</th>\n",
              "      <td>3.0</td>\n",
              "      <td>33.0</td>\n",
              "      <td>3.0</td>\n",
              "      <td>1032.0</td>\n",
              "      <td>278.0</td>\n",
              "      <td>70.0</td>\n",
              "      <td>NaN</td>\n",
              "      <td>236.0</td>\n",
              "      <td>1935.0</td>\n",
              "      <td>2904.0</td>\n",
              "      <td>NaN</td>\n",
              "      <td>5.0</td>\n",
              "      <td>NaN</td>\n",
              "      <td>1.0</td>\n",
              "      <td>467.0</td>\n",
              "      <td>1.0</td>\n",
              "      <td>NaN</td>\n",
              "      <td>98.0</td>\n",
              "      <td>3.0</td>\n",
              "      <td>1035.0</td>\n",
              "      <td>4753.0</td>\n",
              "      <td>421.0</td>\n",
              "      <td>49.0</td>\n",
              "      <td>407.0</td>\n",
              "    </tr>\n",
              "    <tr>\n",
              "      <th>15</th>\n",
              "      <td>3.0</td>\n",
              "      <td>39.0</td>\n",
              "      <td>1.0</td>\n",
              "      <td>900.0</td>\n",
              "      <td>237.0</td>\n",
              "      <td>70.0</td>\n",
              "      <td>NaN</td>\n",
              "      <td>176.0</td>\n",
              "      <td>1988.0</td>\n",
              "      <td>2871.0</td>\n",
              "      <td>NaN</td>\n",
              "      <td>1.0</td>\n",
              "      <td>NaN</td>\n",
              "      <td>4.0</td>\n",
              "      <td>398.0</td>\n",
              "      <td>NaN</td>\n",
              "      <td>NaN</td>\n",
              "      <td>112.0</td>\n",
              "      <td>1.0</td>\n",
              "      <td>1108.0</td>\n",
              "      <td>4738.0</td>\n",
              "      <td>387.0</td>\n",
              "      <td>34.0</td>\n",
              "      <td>376.0</td>\n",
              "    </tr>\n",
              "    <tr>\n",
              "      <th>16</th>\n",
              "      <td>5.0</td>\n",
              "      <td>34.0</td>\n",
              "      <td>1.0</td>\n",
              "      <td>1042.0</td>\n",
              "      <td>298.0</td>\n",
              "      <td>68.0</td>\n",
              "      <td>NaN</td>\n",
              "      <td>192.0</td>\n",
              "      <td>2274.0</td>\n",
              "      <td>3152.0</td>\n",
              "      <td>NaN</td>\n",
              "      <td>3.0</td>\n",
              "      <td>1.0</td>\n",
              "      <td>4.0</td>\n",
              "      <td>344.0</td>\n",
              "      <td>NaN</td>\n",
              "      <td>NaN</td>\n",
              "      <td>102.0</td>\n",
              "      <td>2.0</td>\n",
              "      <td>1077.0</td>\n",
              "      <td>4871.0</td>\n",
              "      <td>432.0</td>\n",
              "      <td>27.0</td>\n",
              "      <td>344.0</td>\n",
              "    </tr>\n",
              "    <tr>\n",
              "      <th>17</th>\n",
              "      <td>6.0</td>\n",
              "      <td>30.0</td>\n",
              "      <td>4.0</td>\n",
              "      <td>1149.0</td>\n",
              "      <td>310.0</td>\n",
              "      <td>97.0</td>\n",
              "      <td>NaN</td>\n",
              "      <td>226.0</td>\n",
              "      <td>2720.0</td>\n",
              "      <td>3678.0</td>\n",
              "      <td>NaN</td>\n",
              "      <td>2.0</td>\n",
              "      <td>NaN</td>\n",
              "      <td>5.0</td>\n",
              "      <td>296.0</td>\n",
              "      <td>NaN</td>\n",
              "      <td>NaN</td>\n",
              "      <td>128.0</td>\n",
              "      <td>3.0</td>\n",
              "      <td>1086.0</td>\n",
              "      <td>5017.0</td>\n",
              "      <td>480.0</td>\n",
              "      <td>41.0</td>\n",
              "      <td>419.0</td>\n",
              "    </tr>\n",
              "    <tr>\n",
              "      <th>18</th>\n",
              "      <td>4.0</td>\n",
              "      <td>32.0</td>\n",
              "      <td>7.0</td>\n",
              "      <td>1216.0</td>\n",
              "      <td>295.0</td>\n",
              "      <td>81.0</td>\n",
              "      <td>NaN</td>\n",
              "      <td>219.0</td>\n",
              "      <td>2681.0</td>\n",
              "      <td>3936.0</td>\n",
              "      <td>NaN</td>\n",
              "      <td>2.0</td>\n",
              "      <td>NaN</td>\n",
              "      <td>6.0</td>\n",
              "      <td>311.0</td>\n",
              "      <td>1.0</td>\n",
              "      <td>1.0</td>\n",
              "      <td>139.0</td>\n",
              "      <td>2.0</td>\n",
              "      <td>1053.0</td>\n",
              "      <td>5164.0</td>\n",
              "      <td>353.0</td>\n",
              "      <td>50.0</td>\n",
              "      <td>467.0</td>\n",
              "    </tr>\n",
              "    <tr>\n",
              "      <th>19</th>\n",
              "      <td>3.0</td>\n",
              "      <td>28.0</td>\n",
              "      <td>6.0</td>\n",
              "      <td>1223.0</td>\n",
              "      <td>330.0</td>\n",
              "      <td>82.0</td>\n",
              "      <td>NaN</td>\n",
              "      <td>252.0</td>\n",
              "      <td>2470.0</td>\n",
              "      <td>3615.0</td>\n",
              "      <td>1.0</td>\n",
              "      <td>1.0</td>\n",
              "      <td>NaN</td>\n",
              "      <td>3.0</td>\n",
              "      <td>248.0</td>\n",
              "      <td>NaN</td>\n",
              "      <td>2.0</td>\n",
              "      <td>138.0</td>\n",
              "      <td>1.0</td>\n",
              "      <td>1072.0</td>\n",
              "      <td>4866.0</td>\n",
              "      <td>311.0</td>\n",
              "      <td>53.0</td>\n",
              "      <td>408.0</td>\n",
              "    </tr>\n",
              "    <tr>\n",
              "      <th>20</th>\n",
              "      <td>4.0</td>\n",
              "      <td>31.0</td>\n",
              "      <td>7.0</td>\n",
              "      <td>1368.0</td>\n",
              "      <td>322.0</td>\n",
              "      <td>76.0</td>\n",
              "      <td>NaN</td>\n",
              "      <td>264.0</td>\n",
              "      <td>2386.0</td>\n",
              "      <td>3456.0</td>\n",
              "      <td>NaN</td>\n",
              "      <td>1.0</td>\n",
              "      <td>NaN</td>\n",
              "      <td>1.0</td>\n",
              "      <td>296.0</td>\n",
              "      <td>NaN</td>\n",
              "      <td>NaN</td>\n",
              "      <td>150.0</td>\n",
              "      <td>3.0</td>\n",
              "      <td>1159.0</td>\n",
              "      <td>4686.0</td>\n",
              "      <td>284.0</td>\n",
              "      <td>59.0</td>\n",
              "      <td>376.0</td>\n",
              "    </tr>\n",
              "    <tr>\n",
              "      <th>21</th>\n",
              "      <td>6.0</td>\n",
              "      <td>40.0</td>\n",
              "      <td>12.0</td>\n",
              "      <td>1583.0</td>\n",
              "      <td>396.0</td>\n",
              "      <td>87.0</td>\n",
              "      <td>NaN</td>\n",
              "      <td>283.0</td>\n",
              "      <td>2557.0</td>\n",
              "      <td>4096.0</td>\n",
              "      <td>NaN</td>\n",
              "      <td>3.0</td>\n",
              "      <td>NaN</td>\n",
              "      <td>2.0</td>\n",
              "      <td>333.0</td>\n",
              "      <td>1.0</td>\n",
              "      <td>NaN</td>\n",
              "      <td>162.0</td>\n",
              "      <td>4.0</td>\n",
              "      <td>1198.0</td>\n",
              "      <td>4771.0</td>\n",
              "      <td>273.0</td>\n",
              "      <td>65.0</td>\n",
              "      <td>434.0</td>\n",
              "    </tr>\n",
              "    <tr>\n",
              "      <th>22</th>\n",
              "      <td>4.0</td>\n",
              "      <td>38.0</td>\n",
              "      <td>8.0</td>\n",
              "      <td>1670.0</td>\n",
              "      <td>416.0</td>\n",
              "      <td>69.0</td>\n",
              "      <td>NaN</td>\n",
              "      <td>304.0</td>\n",
              "      <td>2764.0</td>\n",
              "      <td>4179.0</td>\n",
              "      <td>NaN</td>\n",
              "      <td>NaN</td>\n",
              "      <td>NaN</td>\n",
              "      <td>3.0</td>\n",
              "      <td>372.0</td>\n",
              "      <td>NaN</td>\n",
              "      <td>NaN</td>\n",
              "      <td>218.0</td>\n",
              "      <td>1.0</td>\n",
              "      <td>1057.0</td>\n",
              "      <td>4798.0</td>\n",
              "      <td>262.0</td>\n",
              "      <td>62.0</td>\n",
              "      <td>549.0</td>\n",
              "    </tr>\n",
              "    <tr>\n",
              "      <th>23</th>\n",
              "      <td>4.0</td>\n",
              "      <td>30.0</td>\n",
              "      <td>9.0</td>\n",
              "      <td>1400.0</td>\n",
              "      <td>369.0</td>\n",
              "      <td>48.0</td>\n",
              "      <td>NaN</td>\n",
              "      <td>277.0</td>\n",
              "      <td>2295.0</td>\n",
              "      <td>3661.0</td>\n",
              "      <td>NaN</td>\n",
              "      <td>NaN</td>\n",
              "      <td>NaN</td>\n",
              "      <td>2.0</td>\n",
              "      <td>431.0</td>\n",
              "      <td>NaN</td>\n",
              "      <td>1.0</td>\n",
              "      <td>201.0</td>\n",
              "      <td>1.0</td>\n",
              "      <td>948.0</td>\n",
              "      <td>4241.0</td>\n",
              "      <td>178.0</td>\n",
              "      <td>54.0</td>\n",
              "      <td>571.0</td>\n",
              "    </tr>\n",
              "  </tbody>\n",
              "</table>\n",
              "</div>\n",
              "      <button class=\"colab-df-convert\" onclick=\"convertToInteractive('df-c6fec5e9-855e-4cb9-9871-d26328d674cf')\"\n",
              "              title=\"Convert this dataframe to an interactive table.\"\n",
              "              style=\"display:none;\">\n",
              "        \n",
              "  <svg xmlns=\"http://www.w3.org/2000/svg\" height=\"24px\"viewBox=\"0 0 24 24\"\n",
              "       width=\"24px\">\n",
              "    <path d=\"M0 0h24v24H0V0z\" fill=\"none\"/>\n",
              "    <path d=\"M18.56 5.44l.94 2.06.94-2.06 2.06-.94-2.06-.94-.94-2.06-.94 2.06-2.06.94zm-11 1L8.5 8.5l.94-2.06 2.06-.94-2.06-.94L8.5 2.5l-.94 2.06-2.06.94zm10 10l.94 2.06.94-2.06 2.06-.94-2.06-.94-.94-2.06-.94 2.06-2.06.94z\"/><path d=\"M17.41 7.96l-1.37-1.37c-.4-.4-.92-.59-1.43-.59-.52 0-1.04.2-1.43.59L10.3 9.45l-7.72 7.72c-.78.78-.78 2.05 0 2.83L4 21.41c.39.39.9.59 1.41.59.51 0 1.02-.2 1.41-.59l7.78-7.78 2.81-2.81c.8-.78.8-2.07 0-2.86zM5.41 20L4 18.59l7.72-7.72 1.47 1.35L5.41 20z\"/>\n",
              "  </svg>\n",
              "      </button>\n",
              "      \n",
              "  <style>\n",
              "    .colab-df-container {\n",
              "      display:flex;\n",
              "      flex-wrap:wrap;\n",
              "      gap: 12px;\n",
              "    }\n",
              "\n",
              "    .colab-df-convert {\n",
              "      background-color: #E8F0FE;\n",
              "      border: none;\n",
              "      border-radius: 50%;\n",
              "      cursor: pointer;\n",
              "      display: none;\n",
              "      fill: #1967D2;\n",
              "      height: 32px;\n",
              "      padding: 0 0 0 0;\n",
              "      width: 32px;\n",
              "    }\n",
              "\n",
              "    .colab-df-convert:hover {\n",
              "      background-color: #E2EBFA;\n",
              "      box-shadow: 0px 1px 2px rgba(60, 64, 67, 0.3), 0px 1px 3px 1px rgba(60, 64, 67, 0.15);\n",
              "      fill: #174EA6;\n",
              "    }\n",
              "\n",
              "    [theme=dark] .colab-df-convert {\n",
              "      background-color: #3B4455;\n",
              "      fill: #D2E3FC;\n",
              "    }\n",
              "\n",
              "    [theme=dark] .colab-df-convert:hover {\n",
              "      background-color: #434B5C;\n",
              "      box-shadow: 0px 1px 3px 1px rgba(0, 0, 0, 0.15);\n",
              "      filter: drop-shadow(0px 1px 2px rgba(0, 0, 0, 0.3));\n",
              "      fill: #FFFFFF;\n",
              "    }\n",
              "  </style>\n",
              "\n",
              "      <script>\n",
              "        const buttonEl =\n",
              "          document.querySelector('#df-c6fec5e9-855e-4cb9-9871-d26328d674cf button.colab-df-convert');\n",
              "        buttonEl.style.display =\n",
              "          google.colab.kernel.accessAllowed ? 'block' : 'none';\n",
              "\n",
              "        async function convertToInteractive(key) {\n",
              "          const element = document.querySelector('#df-c6fec5e9-855e-4cb9-9871-d26328d674cf');\n",
              "          const dataTable =\n",
              "            await google.colab.kernel.invokeFunction('convertToInteractive',\n",
              "                                                     [key], {});\n",
              "          if (!dataTable) return;\n",
              "\n",
              "          const docLinkHtml = 'Like what you see? Visit the ' +\n",
              "            '<a target=\"_blank\" href=https://colab.research.google.com/notebooks/data_table.ipynb>data table notebook</a>'\n",
              "            + ' to learn more about interactive tables.';\n",
              "          element.innerHTML = '';\n",
              "          dataTable['output_type'] = 'display_data';\n",
              "          await google.colab.output.renderOutput(dataTable, element);\n",
              "          const docLink = document.createElement('div');\n",
              "          docLink.innerHTML = docLinkHtml;\n",
              "          element.appendChild(docLink);\n",
              "        }\n",
              "      </script>\n",
              "    </div>\n",
              "  </div>\n",
              "  "
            ],
            "text/plain": [
              "Issue Reported  AUTO/ PED  BLOCKED DRIV/ HWY  ...  VEHICLE FIRE  zSTALLED VEHICLE\n",
              "Hour                                          ...                                \n",
              "0                     6.0               28.0  ...          46.0             460.0\n",
              "1                     4.0               21.0  ...          36.0             427.0\n",
              "2                     1.0               25.0  ...          32.0             426.0\n",
              "3                     2.0               14.0  ...          28.0             424.0\n",
              "4                     NaN               10.0  ...          20.0             382.0\n",
              "5                     NaN               11.0  ...          31.0             306.0\n",
              "6                     1.0                8.0  ...          28.0             246.0\n",
              "7                     3.0                3.0  ...          20.0             223.0\n",
              "8                     1.0                7.0  ...          17.0             243.0\n",
              "9                     NaN                4.0  ...          18.0             154.0\n",
              "10                    NaN                6.0  ...          23.0             153.0\n",
              "11                    1.0               18.0  ...          22.0             229.0\n",
              "12                    2.0                9.0  ...          24.0             330.0\n",
              "13                    5.0               27.0  ...          27.0             408.0\n",
              "14                    3.0               33.0  ...          49.0             407.0\n",
              "15                    3.0               39.0  ...          34.0             376.0\n",
              "16                    5.0               34.0  ...          27.0             344.0\n",
              "17                    6.0               30.0  ...          41.0             419.0\n",
              "18                    4.0               32.0  ...          50.0             467.0\n",
              "19                    3.0               28.0  ...          53.0             408.0\n",
              "20                    4.0               31.0  ...          59.0             376.0\n",
              "21                    6.0               40.0  ...          65.0             434.0\n",
              "22                    4.0               38.0  ...          62.0             549.0\n",
              "23                    4.0               30.0  ...          54.0             571.0\n",
              "\n",
              "[24 rows x 24 columns]"
            ]
          },
          "metadata": {},
          "execution_count": 21
        }
      ]
    },
    {
      "cell_type": "code",
      "source": [
        "# Droping all other rows and remaining with the top 5 traffic cases\n",
        "# The top 5 cases were identified from the first question\n",
        "\n",
        "piv = piv.drop(['AUTO/ PED', 'BLOCKED DRIV/ HWY', 'BOAT ACCIDENT',\n",
        "       'COLLISION WITH INJURY', 'COLLISION/PRIVATE PROPERTY',\n",
        "       'COLLISN / FTSRA', 'COLLISN/ LVNG SCN','FLEET ACC/ FATAL', \n",
        "       'FLEET ACC/ INJURY', 'HIGH WATER', 'ICY ROADWAY',\n",
        "       'LOOSE LIVESTOCK', 'N / HZRD TRFC VIOL', 'OBSTRUCT HWY',\n",
        "       'Stalled Vehicle', 'TRAFFIC FATALITY',\n",
        "       'Traffic Impediment', 'VEHICLE FIRE',\n",
        "       'zSTALLED VEHICLE'], axis=1)\n",
        "\n",
        "piv"
      ],
      "metadata": {
        "colab": {
          "base_uri": "https://localhost:8080/",
          "height": 833
        },
        "id": "XXtwhsVqHesb",
        "outputId": "8bb62527-dea8-49a6-b8d4-825cf8b5190f"
      },
      "execution_count": 22,
      "outputs": [
        {
          "output_type": "execute_result",
          "data": {
            "text/html": [
              "\n",
              "  <div id=\"df-bb16ae4e-b5ff-40d4-a488-fdca37cc5a77\">\n",
              "    <div class=\"colab-df-container\">\n",
              "      <div>\n",
              "<style scoped>\n",
              "    .dataframe tbody tr th:only-of-type {\n",
              "        vertical-align: middle;\n",
              "    }\n",
              "\n",
              "    .dataframe tbody tr th {\n",
              "        vertical-align: top;\n",
              "    }\n",
              "\n",
              "    .dataframe thead th {\n",
              "        text-align: right;\n",
              "    }\n",
              "</style>\n",
              "<table border=\"1\" class=\"dataframe\">\n",
              "  <thead>\n",
              "    <tr style=\"text-align: right;\">\n",
              "      <th>Issue Reported</th>\n",
              "      <th>COLLISION</th>\n",
              "      <th>Crash Service</th>\n",
              "      <th>Crash Urgent</th>\n",
              "      <th>TRFC HAZD/ DEBRIS</th>\n",
              "      <th>Traffic Hazard</th>\n",
              "    </tr>\n",
              "    <tr>\n",
              "      <th>Hour</th>\n",
              "      <th></th>\n",
              "      <th></th>\n",
              "      <th></th>\n",
              "      <th></th>\n",
              "      <th></th>\n",
              "    </tr>\n",
              "  </thead>\n",
              "  <tbody>\n",
              "    <tr>\n",
              "      <th>0</th>\n",
              "      <td>1301.0</td>\n",
              "      <td>1880.0</td>\n",
              "      <td>3195.0</td>\n",
              "      <td>915.0</td>\n",
              "      <td>3915.0</td>\n",
              "    </tr>\n",
              "    <tr>\n",
              "      <th>1</th>\n",
              "      <td>1026.0</td>\n",
              "      <td>1438.0</td>\n",
              "      <td>2458.0</td>\n",
              "      <td>767.0</td>\n",
              "      <td>3092.0</td>\n",
              "    </tr>\n",
              "    <tr>\n",
              "      <th>2</th>\n",
              "      <td>869.0</td>\n",
              "      <td>1162.0</td>\n",
              "      <td>2234.0</td>\n",
              "      <td>630.0</td>\n",
              "      <td>2431.0</td>\n",
              "    </tr>\n",
              "    <tr>\n",
              "      <th>3</th>\n",
              "      <td>642.0</td>\n",
              "      <td>871.0</td>\n",
              "      <td>1740.0</td>\n",
              "      <td>454.0</td>\n",
              "      <td>1916.0</td>\n",
              "    </tr>\n",
              "    <tr>\n",
              "      <th>4</th>\n",
              "      <td>511.0</td>\n",
              "      <td>674.0</td>\n",
              "      <td>1314.0</td>\n",
              "      <td>338.0</td>\n",
              "      <td>1398.0</td>\n",
              "    </tr>\n",
              "    <tr>\n",
              "      <th>5</th>\n",
              "      <td>445.0</td>\n",
              "      <td>502.0</td>\n",
              "      <td>1087.0</td>\n",
              "      <td>254.0</td>\n",
              "      <td>1106.0</td>\n",
              "    </tr>\n",
              "    <tr>\n",
              "      <th>6</th>\n",
              "      <td>448.0</td>\n",
              "      <td>509.0</td>\n",
              "      <td>1046.0</td>\n",
              "      <td>270.0</td>\n",
              "      <td>1145.0</td>\n",
              "    </tr>\n",
              "    <tr>\n",
              "      <th>7</th>\n",
              "      <td>541.0</td>\n",
              "      <td>775.0</td>\n",
              "      <td>1404.0</td>\n",
              "      <td>291.0</td>\n",
              "      <td>1363.0</td>\n",
              "    </tr>\n",
              "    <tr>\n",
              "      <th>8</th>\n",
              "      <td>442.0</td>\n",
              "      <td>693.0</td>\n",
              "      <td>1292.0</td>\n",
              "      <td>299.0</td>\n",
              "      <td>1319.0</td>\n",
              "    </tr>\n",
              "    <tr>\n",
              "      <th>9</th>\n",
              "      <td>318.0</td>\n",
              "      <td>567.0</td>\n",
              "      <td>869.0</td>\n",
              "      <td>271.0</td>\n",
              "      <td>1284.0</td>\n",
              "    </tr>\n",
              "    <tr>\n",
              "      <th>10</th>\n",
              "      <td>398.0</td>\n",
              "      <td>538.0</td>\n",
              "      <td>916.0</td>\n",
              "      <td>356.0</td>\n",
              "      <td>1525.0</td>\n",
              "    </tr>\n",
              "    <tr>\n",
              "      <th>11</th>\n",
              "      <td>727.0</td>\n",
              "      <td>882.0</td>\n",
              "      <td>1587.0</td>\n",
              "      <td>525.0</td>\n",
              "      <td>2408.0</td>\n",
              "    </tr>\n",
              "    <tr>\n",
              "      <th>12</th>\n",
              "      <td>1227.0</td>\n",
              "      <td>1487.0</td>\n",
              "      <td>2615.0</td>\n",
              "      <td>836.0</td>\n",
              "      <td>3728.0</td>\n",
              "    </tr>\n",
              "    <tr>\n",
              "      <th>13</th>\n",
              "      <td>1311.0</td>\n",
              "      <td>2110.0</td>\n",
              "      <td>3216.0</td>\n",
              "      <td>992.0</td>\n",
              "      <td>4418.0</td>\n",
              "    </tr>\n",
              "    <tr>\n",
              "      <th>14</th>\n",
              "      <td>1032.0</td>\n",
              "      <td>1935.0</td>\n",
              "      <td>2904.0</td>\n",
              "      <td>1035.0</td>\n",
              "      <td>4753.0</td>\n",
              "    </tr>\n",
              "    <tr>\n",
              "      <th>15</th>\n",
              "      <td>900.0</td>\n",
              "      <td>1988.0</td>\n",
              "      <td>2871.0</td>\n",
              "      <td>1108.0</td>\n",
              "      <td>4738.0</td>\n",
              "    </tr>\n",
              "    <tr>\n",
              "      <th>16</th>\n",
              "      <td>1042.0</td>\n",
              "      <td>2274.0</td>\n",
              "      <td>3152.0</td>\n",
              "      <td>1077.0</td>\n",
              "      <td>4871.0</td>\n",
              "    </tr>\n",
              "    <tr>\n",
              "      <th>17</th>\n",
              "      <td>1149.0</td>\n",
              "      <td>2720.0</td>\n",
              "      <td>3678.0</td>\n",
              "      <td>1086.0</td>\n",
              "      <td>5017.0</td>\n",
              "    </tr>\n",
              "    <tr>\n",
              "      <th>18</th>\n",
              "      <td>1216.0</td>\n",
              "      <td>2681.0</td>\n",
              "      <td>3936.0</td>\n",
              "      <td>1053.0</td>\n",
              "      <td>5164.0</td>\n",
              "    </tr>\n",
              "    <tr>\n",
              "      <th>19</th>\n",
              "      <td>1223.0</td>\n",
              "      <td>2470.0</td>\n",
              "      <td>3615.0</td>\n",
              "      <td>1072.0</td>\n",
              "      <td>4866.0</td>\n",
              "    </tr>\n",
              "    <tr>\n",
              "      <th>20</th>\n",
              "      <td>1368.0</td>\n",
              "      <td>2386.0</td>\n",
              "      <td>3456.0</td>\n",
              "      <td>1159.0</td>\n",
              "      <td>4686.0</td>\n",
              "    </tr>\n",
              "    <tr>\n",
              "      <th>21</th>\n",
              "      <td>1583.0</td>\n",
              "      <td>2557.0</td>\n",
              "      <td>4096.0</td>\n",
              "      <td>1198.0</td>\n",
              "      <td>4771.0</td>\n",
              "    </tr>\n",
              "    <tr>\n",
              "      <th>22</th>\n",
              "      <td>1670.0</td>\n",
              "      <td>2764.0</td>\n",
              "      <td>4179.0</td>\n",
              "      <td>1057.0</td>\n",
              "      <td>4798.0</td>\n",
              "    </tr>\n",
              "    <tr>\n",
              "      <th>23</th>\n",
              "      <td>1400.0</td>\n",
              "      <td>2295.0</td>\n",
              "      <td>3661.0</td>\n",
              "      <td>948.0</td>\n",
              "      <td>4241.0</td>\n",
              "    </tr>\n",
              "  </tbody>\n",
              "</table>\n",
              "</div>\n",
              "      <button class=\"colab-df-convert\" onclick=\"convertToInteractive('df-bb16ae4e-b5ff-40d4-a488-fdca37cc5a77')\"\n",
              "              title=\"Convert this dataframe to an interactive table.\"\n",
              "              style=\"display:none;\">\n",
              "        \n",
              "  <svg xmlns=\"http://www.w3.org/2000/svg\" height=\"24px\"viewBox=\"0 0 24 24\"\n",
              "       width=\"24px\">\n",
              "    <path d=\"M0 0h24v24H0V0z\" fill=\"none\"/>\n",
              "    <path d=\"M18.56 5.44l.94 2.06.94-2.06 2.06-.94-2.06-.94-.94-2.06-.94 2.06-2.06.94zm-11 1L8.5 8.5l.94-2.06 2.06-.94-2.06-.94L8.5 2.5l-.94 2.06-2.06.94zm10 10l.94 2.06.94-2.06 2.06-.94-2.06-.94-.94-2.06-.94 2.06-2.06.94z\"/><path d=\"M17.41 7.96l-1.37-1.37c-.4-.4-.92-.59-1.43-.59-.52 0-1.04.2-1.43.59L10.3 9.45l-7.72 7.72c-.78.78-.78 2.05 0 2.83L4 21.41c.39.39.9.59 1.41.59.51 0 1.02-.2 1.41-.59l7.78-7.78 2.81-2.81c.8-.78.8-2.07 0-2.86zM5.41 20L4 18.59l7.72-7.72 1.47 1.35L5.41 20z\"/>\n",
              "  </svg>\n",
              "      </button>\n",
              "      \n",
              "  <style>\n",
              "    .colab-df-container {\n",
              "      display:flex;\n",
              "      flex-wrap:wrap;\n",
              "      gap: 12px;\n",
              "    }\n",
              "\n",
              "    .colab-df-convert {\n",
              "      background-color: #E8F0FE;\n",
              "      border: none;\n",
              "      border-radius: 50%;\n",
              "      cursor: pointer;\n",
              "      display: none;\n",
              "      fill: #1967D2;\n",
              "      height: 32px;\n",
              "      padding: 0 0 0 0;\n",
              "      width: 32px;\n",
              "    }\n",
              "\n",
              "    .colab-df-convert:hover {\n",
              "      background-color: #E2EBFA;\n",
              "      box-shadow: 0px 1px 2px rgba(60, 64, 67, 0.3), 0px 1px 3px 1px rgba(60, 64, 67, 0.15);\n",
              "      fill: #174EA6;\n",
              "    }\n",
              "\n",
              "    [theme=dark] .colab-df-convert {\n",
              "      background-color: #3B4455;\n",
              "      fill: #D2E3FC;\n",
              "    }\n",
              "\n",
              "    [theme=dark] .colab-df-convert:hover {\n",
              "      background-color: #434B5C;\n",
              "      box-shadow: 0px 1px 3px 1px rgba(0, 0, 0, 0.15);\n",
              "      filter: drop-shadow(0px 1px 2px rgba(0, 0, 0, 0.3));\n",
              "      fill: #FFFFFF;\n",
              "    }\n",
              "  </style>\n",
              "\n",
              "      <script>\n",
              "        const buttonEl =\n",
              "          document.querySelector('#df-bb16ae4e-b5ff-40d4-a488-fdca37cc5a77 button.colab-df-convert');\n",
              "        buttonEl.style.display =\n",
              "          google.colab.kernel.accessAllowed ? 'block' : 'none';\n",
              "\n",
              "        async function convertToInteractive(key) {\n",
              "          const element = document.querySelector('#df-bb16ae4e-b5ff-40d4-a488-fdca37cc5a77');\n",
              "          const dataTable =\n",
              "            await google.colab.kernel.invokeFunction('convertToInteractive',\n",
              "                                                     [key], {});\n",
              "          if (!dataTable) return;\n",
              "\n",
              "          const docLinkHtml = 'Like what you see? Visit the ' +\n",
              "            '<a target=\"_blank\" href=https://colab.research.google.com/notebooks/data_table.ipynb>data table notebook</a>'\n",
              "            + ' to learn more about interactive tables.';\n",
              "          element.innerHTML = '';\n",
              "          dataTable['output_type'] = 'display_data';\n",
              "          await google.colab.output.renderOutput(dataTable, element);\n",
              "          const docLink = document.createElement('div');\n",
              "          docLink.innerHTML = docLinkHtml;\n",
              "          element.appendChild(docLink);\n",
              "        }\n",
              "      </script>\n",
              "    </div>\n",
              "  </div>\n",
              "  "
            ],
            "text/plain": [
              "Issue Reported  COLLISION  Crash Service  ...  TRFC HAZD/ DEBRIS  Traffic Hazard\n",
              "Hour                                      ...                                   \n",
              "0                  1301.0         1880.0  ...              915.0          3915.0\n",
              "1                  1026.0         1438.0  ...              767.0          3092.0\n",
              "2                   869.0         1162.0  ...              630.0          2431.0\n",
              "3                   642.0          871.0  ...              454.0          1916.0\n",
              "4                   511.0          674.0  ...              338.0          1398.0\n",
              "5                   445.0          502.0  ...              254.0          1106.0\n",
              "6                   448.0          509.0  ...              270.0          1145.0\n",
              "7                   541.0          775.0  ...              291.0          1363.0\n",
              "8                   442.0          693.0  ...              299.0          1319.0\n",
              "9                   318.0          567.0  ...              271.0          1284.0\n",
              "10                  398.0          538.0  ...              356.0          1525.0\n",
              "11                  727.0          882.0  ...              525.0          2408.0\n",
              "12                 1227.0         1487.0  ...              836.0          3728.0\n",
              "13                 1311.0         2110.0  ...              992.0          4418.0\n",
              "14                 1032.0         1935.0  ...             1035.0          4753.0\n",
              "15                  900.0         1988.0  ...             1108.0          4738.0\n",
              "16                 1042.0         2274.0  ...             1077.0          4871.0\n",
              "17                 1149.0         2720.0  ...             1086.0          5017.0\n",
              "18                 1216.0         2681.0  ...             1053.0          5164.0\n",
              "19                 1223.0         2470.0  ...             1072.0          4866.0\n",
              "20                 1368.0         2386.0  ...             1159.0          4686.0\n",
              "21                 1583.0         2557.0  ...             1198.0          4771.0\n",
              "22                 1670.0         2764.0  ...             1057.0          4798.0\n",
              "23                 1400.0         2295.0  ...              948.0          4241.0\n",
              "\n",
              "[24 rows x 5 columns]"
            ]
          },
          "metadata": {},
          "execution_count": 22
        }
      ]
    },
    {
      "cell_type": "code",
      "source": [
        "# Visualizing the distribution of top 5 traffic cases accross the day\n",
        "piv.plot(figsize=(12, 8), title=\"Distribution of top 5 traffic cases accross the day\")"
      ],
      "metadata": {
        "colab": {
          "base_uri": "https://localhost:8080/",
          "height": 531
        },
        "id": "JLxIv8IiH7Va",
        "outputId": "a8e6f2ee-7b68-4901-8d55-71a973b5dfe9"
      },
      "execution_count": 23,
      "outputs": [
        {
          "output_type": "execute_result",
          "data": {
            "text/plain": [
              "<matplotlib.axes._subplots.AxesSubplot at 0x7f924dcc93d0>"
            ]
          },
          "metadata": {},
          "execution_count": 23
        },
        {
          "output_type": "display_data",
          "data": {
            "image/png": "[encoded data removed]",
            "text/plain": [
              "<Figure size 864x576 with 1 Axes>"
            ]
          },
          "metadata": {
            "needs_background": "light"
          }
        }
      ]
    },
    {
      "cell_type": "markdown",
      "source": [
        "From the chart above, we can see the variation in the amount of traffic cases recorded by differnet hours of the day. "
      ],
      "metadata": {
        "id": "eIMBgnYlaEtW"
      }
    },
    {
      "cell_type": "markdown",
      "source": [
        "## **End of the Analysis** "
      ],
      "metadata": {
        "id": "6AYQZQLoaZHW"
      }
    }
  ]
}